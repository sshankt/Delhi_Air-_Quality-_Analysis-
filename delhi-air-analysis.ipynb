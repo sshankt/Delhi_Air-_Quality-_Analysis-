{
 "cells": [
  {
   "cell_type": "code",
   "execution_count": 1,
   "id": "4b06ba5d",
   "metadata": {
    "_cell_guid": "b1076dfc-b9ad-4769-8c92-a6c4dae69d19",
    "_uuid": "8f2839f25d086af736a60e9eeb907d3b93b6e0e5",
    "execution": {
     "iopub.execute_input": "2025-08-08T05:55:39.139543Z",
     "iopub.status.busy": "2025-08-08T05:55:39.139201Z",
     "iopub.status.idle": "2025-08-08T05:55:42.504827Z",
     "shell.execute_reply": "2025-08-08T05:55:42.503793Z"
    },
    "papermill": {
     "duration": 3.372693,
     "end_time": "2025-08-08T05:55:42.506472",
     "exception": false,
     "start_time": "2025-08-08T05:55:39.133779",
     "status": "completed"
    },
    "tags": []
   },
   "outputs": [
    {
     "name": "stdout",
     "output_type": "stream",
     "text": [
      "/kaggle/input/delhi-air-quality-dataset/final_dataset.csv\n"
     ]
    }
   ],
   "source": [
    "# This Python 3 environment comes with many helpful analytics libraries installed\n",
    "# It is defined by the kaggle/python Docker image: https://github.com/kaggle/docker-python\n",
    "# For example, here's several helpful packages to load\n",
    "\n",
    "import numpy as np # linear algebra\n",
    "import pandas as pd\n",
    "import matplotlib.pyplot as plt\n",
    "import seaborn as sns # data processing, CSV file I/O (e.g. pd.read_csv)\n",
    "\n",
    "# Input data files are available in the read-only \"../input/\" directory\n",
    "# For example, running this (by clicking run or pressing Shift+Enter) will list all files under the input directory\n",
    "\n",
    "import os\n",
    "for dirname, _, filenames in os.walk('/kaggle/input'):\n",
    "    for filename in filenames:\n",
    "        print(os.path.join(dirname, filename))\n",
    "\n",
    "# You can write up to 20GB to the current directory (/kaggle/working/) that gets preserved as output when you create a version using \"Save & Run All\" \n",
    "# You can also write temporary files to /kaggle/temp/, but they won't be saved outside of the current session"
   ]
  },
  {
   "cell_type": "code",
   "execution_count": 2,
   "id": "f5fd6836",
   "metadata": {
    "execution": {
     "iopub.execute_input": "2025-08-08T05:55:42.515299Z",
     "iopub.status.busy": "2025-08-08T05:55:42.514824Z",
     "iopub.status.idle": "2025-08-08T05:55:42.538080Z",
     "shell.execute_reply": "2025-08-08T05:55:42.537344Z"
    },
    "papermill": {
     "duration": 0.029338,
     "end_time": "2025-08-08T05:55:42.539731",
     "exception": false,
     "start_time": "2025-08-08T05:55:42.510393",
     "status": "completed"
    },
    "tags": []
   },
   "outputs": [],
   "source": [
    "df = pd.read_csv(\"/kaggle/input/delhi-air-quality-dataset/final_dataset.csv\")"
   ]
  },
  {
   "cell_type": "code",
   "execution_count": 3,
   "id": "87b816e5",
   "metadata": {
    "execution": {
     "iopub.execute_input": "2025-08-08T05:55:42.548802Z",
     "iopub.status.busy": "2025-08-08T05:55:42.548165Z",
     "iopub.status.idle": "2025-08-08T05:55:42.574129Z",
     "shell.execute_reply": "2025-08-08T05:55:42.573214Z"
    },
    "papermill": {
     "duration": 0.03191,
     "end_time": "2025-08-08T05:55:42.575612",
     "exception": false,
     "start_time": "2025-08-08T05:55:42.543702",
     "status": "completed"
    },
    "tags": []
   },
   "outputs": [
    {
     "data": {
      "text/html": [
       "<div>\n",
       "<style scoped>\n",
       "    .dataframe tbody tr th:only-of-type {\n",
       "        vertical-align: middle;\n",
       "    }\n",
       "\n",
       "    .dataframe tbody tr th {\n",
       "        vertical-align: top;\n",
       "    }\n",
       "\n",
       "    .dataframe thead th {\n",
       "        text-align: right;\n",
       "    }\n",
       "</style>\n",
       "<table border=\"1\" class=\"dataframe\">\n",
       "  <thead>\n",
       "    <tr style=\"text-align: right;\">\n",
       "      <th></th>\n",
       "      <th>Date</th>\n",
       "      <th>Month</th>\n",
       "      <th>Year</th>\n",
       "      <th>Holidays_Count</th>\n",
       "      <th>Days</th>\n",
       "      <th>PM2.5</th>\n",
       "      <th>PM10</th>\n",
       "      <th>NO2</th>\n",
       "      <th>SO2</th>\n",
       "      <th>CO</th>\n",
       "      <th>Ozone</th>\n",
       "      <th>AQI</th>\n",
       "    </tr>\n",
       "  </thead>\n",
       "  <tbody>\n",
       "    <tr>\n",
       "      <th>0</th>\n",
       "      <td>1</td>\n",
       "      <td>1</td>\n",
       "      <td>2021</td>\n",
       "      <td>0</td>\n",
       "      <td>5</td>\n",
       "      <td>408.80</td>\n",
       "      <td>442.42</td>\n",
       "      <td>160.61</td>\n",
       "      <td>12.95</td>\n",
       "      <td>2.77</td>\n",
       "      <td>43.19</td>\n",
       "      <td>462</td>\n",
       "    </tr>\n",
       "    <tr>\n",
       "      <th>1</th>\n",
       "      <td>2</td>\n",
       "      <td>1</td>\n",
       "      <td>2021</td>\n",
       "      <td>0</td>\n",
       "      <td>6</td>\n",
       "      <td>404.04</td>\n",
       "      <td>561.95</td>\n",
       "      <td>52.85</td>\n",
       "      <td>5.18</td>\n",
       "      <td>2.60</td>\n",
       "      <td>16.43</td>\n",
       "      <td>482</td>\n",
       "    </tr>\n",
       "    <tr>\n",
       "      <th>2</th>\n",
       "      <td>3</td>\n",
       "      <td>1</td>\n",
       "      <td>2021</td>\n",
       "      <td>1</td>\n",
       "      <td>7</td>\n",
       "      <td>225.07</td>\n",
       "      <td>239.04</td>\n",
       "      <td>170.95</td>\n",
       "      <td>10.93</td>\n",
       "      <td>1.40</td>\n",
       "      <td>44.29</td>\n",
       "      <td>263</td>\n",
       "    </tr>\n",
       "    <tr>\n",
       "      <th>3</th>\n",
       "      <td>4</td>\n",
       "      <td>1</td>\n",
       "      <td>2021</td>\n",
       "      <td>0</td>\n",
       "      <td>1</td>\n",
       "      <td>89.55</td>\n",
       "      <td>132.08</td>\n",
       "      <td>153.98</td>\n",
       "      <td>10.42</td>\n",
       "      <td>1.01</td>\n",
       "      <td>49.19</td>\n",
       "      <td>207</td>\n",
       "    </tr>\n",
       "    <tr>\n",
       "      <th>4</th>\n",
       "      <td>5</td>\n",
       "      <td>1</td>\n",
       "      <td>2021</td>\n",
       "      <td>0</td>\n",
       "      <td>2</td>\n",
       "      <td>54.06</td>\n",
       "      <td>55.54</td>\n",
       "      <td>122.66</td>\n",
       "      <td>9.70</td>\n",
       "      <td>0.64</td>\n",
       "      <td>48.88</td>\n",
       "      <td>149</td>\n",
       "    </tr>\n",
       "  </tbody>\n",
       "</table>\n",
       "</div>"
      ],
      "text/plain": [
       "   Date  Month  Year  Holidays_Count  Days   PM2.5    PM10     NO2    SO2  \\\n",
       "0     1      1  2021               0     5  408.80  442.42  160.61  12.95   \n",
       "1     2      1  2021               0     6  404.04  561.95   52.85   5.18   \n",
       "2     3      1  2021               1     7  225.07  239.04  170.95  10.93   \n",
       "3     4      1  2021               0     1   89.55  132.08  153.98  10.42   \n",
       "4     5      1  2021               0     2   54.06   55.54  122.66   9.70   \n",
       "\n",
       "     CO  Ozone  AQI  \n",
       "0  2.77  43.19  462  \n",
       "1  2.60  16.43  482  \n",
       "2  1.40  44.29  263  \n",
       "3  1.01  49.19  207  \n",
       "4  0.64  48.88  149  "
      ]
     },
     "execution_count": 3,
     "metadata": {},
     "output_type": "execute_result"
    }
   ],
   "source": [
    "df.head()"
   ]
  },
  {
   "cell_type": "code",
   "execution_count": 4,
   "id": "af7a0e96",
   "metadata": {
    "execution": {
     "iopub.execute_input": "2025-08-08T05:55:42.584409Z",
     "iopub.status.busy": "2025-08-08T05:55:42.584085Z",
     "iopub.status.idle": "2025-08-08T05:55:42.596934Z",
     "shell.execute_reply": "2025-08-08T05:55:42.596220Z"
    },
    "papermill": {
     "duration": 0.018774,
     "end_time": "2025-08-08T05:55:42.598268",
     "exception": false,
     "start_time": "2025-08-08T05:55:42.579494",
     "status": "completed"
    },
    "tags": []
   },
   "outputs": [
    {
     "data": {
      "text/html": [
       "<div>\n",
       "<style scoped>\n",
       "    .dataframe tbody tr th:only-of-type {\n",
       "        vertical-align: middle;\n",
       "    }\n",
       "\n",
       "    .dataframe tbody tr th {\n",
       "        vertical-align: top;\n",
       "    }\n",
       "\n",
       "    .dataframe thead th {\n",
       "        text-align: right;\n",
       "    }\n",
       "</style>\n",
       "<table border=\"1\" class=\"dataframe\">\n",
       "  <thead>\n",
       "    <tr style=\"text-align: right;\">\n",
       "      <th></th>\n",
       "      <th>Date</th>\n",
       "      <th>Month</th>\n",
       "      <th>Year</th>\n",
       "      <th>Holidays_Count</th>\n",
       "      <th>Days</th>\n",
       "      <th>PM2.5</th>\n",
       "      <th>PM10</th>\n",
       "      <th>NO2</th>\n",
       "      <th>SO2</th>\n",
       "      <th>CO</th>\n",
       "      <th>Ozone</th>\n",
       "      <th>AQI</th>\n",
       "    </tr>\n",
       "  </thead>\n",
       "  <tbody>\n",
       "    <tr>\n",
       "      <th>1456</th>\n",
       "      <td>27</td>\n",
       "      <td>12</td>\n",
       "      <td>2024</td>\n",
       "      <td>0</td>\n",
       "      <td>5</td>\n",
       "      <td>58.43</td>\n",
       "      <td>249.17</td>\n",
       "      <td>41.69</td>\n",
       "      <td>65.89</td>\n",
       "      <td>0.99</td>\n",
       "      <td>36.25</td>\n",
       "      <td>263</td>\n",
       "    </tr>\n",
       "    <tr>\n",
       "      <th>1457</th>\n",
       "      <td>28</td>\n",
       "      <td>12</td>\n",
       "      <td>2024</td>\n",
       "      <td>0</td>\n",
       "      <td>6</td>\n",
       "      <td>33.83</td>\n",
       "      <td>150.77</td>\n",
       "      <td>33.31</td>\n",
       "      <td>66.14</td>\n",
       "      <td>0.79</td>\n",
       "      <td>35.19</td>\n",
       "      <td>113</td>\n",
       "    </tr>\n",
       "    <tr>\n",
       "      <th>1458</th>\n",
       "      <td>29</td>\n",
       "      <td>12</td>\n",
       "      <td>2024</td>\n",
       "      <td>1</td>\n",
       "      <td>7</td>\n",
       "      <td>31.21</td>\n",
       "      <td>139.75</td>\n",
       "      <td>27.01</td>\n",
       "      <td>65.94</td>\n",
       "      <td>0.57</td>\n",
       "      <td>35.88</td>\n",
       "      <td>142</td>\n",
       "    </tr>\n",
       "    <tr>\n",
       "      <th>1459</th>\n",
       "      <td>30</td>\n",
       "      <td>12</td>\n",
       "      <td>2024</td>\n",
       "      <td>0</td>\n",
       "      <td>1</td>\n",
       "      <td>38.01</td>\n",
       "      <td>152.83</td>\n",
       "      <td>29.12</td>\n",
       "      <td>65.16</td>\n",
       "      <td>0.55</td>\n",
       "      <td>38.38</td>\n",
       "      <td>116</td>\n",
       "    </tr>\n",
       "    <tr>\n",
       "      <th>1460</th>\n",
       "      <td>31</td>\n",
       "      <td>12</td>\n",
       "      <td>2024</td>\n",
       "      <td>0</td>\n",
       "      <td>2</td>\n",
       "      <td>80.42</td>\n",
       "      <td>318.96</td>\n",
       "      <td>40.37</td>\n",
       "      <td>64.98</td>\n",
       "      <td>0.84</td>\n",
       "      <td>39.93</td>\n",
       "      <td>209</td>\n",
       "    </tr>\n",
       "  </tbody>\n",
       "</table>\n",
       "</div>"
      ],
      "text/plain": [
       "      Date  Month  Year  Holidays_Count  Days  PM2.5    PM10    NO2    SO2  \\\n",
       "1456    27     12  2024               0     5  58.43  249.17  41.69  65.89   \n",
       "1457    28     12  2024               0     6  33.83  150.77  33.31  66.14   \n",
       "1458    29     12  2024               1     7  31.21  139.75  27.01  65.94   \n",
       "1459    30     12  2024               0     1  38.01  152.83  29.12  65.16   \n",
       "1460    31     12  2024               0     2  80.42  318.96  40.37  64.98   \n",
       "\n",
       "        CO  Ozone  AQI  \n",
       "1456  0.99  36.25  263  \n",
       "1457  0.79  35.19  113  \n",
       "1458  0.57  35.88  142  \n",
       "1459  0.55  38.38  116  \n",
       "1460  0.84  39.93  209  "
      ]
     },
     "execution_count": 4,
     "metadata": {},
     "output_type": "execute_result"
    }
   ],
   "source": [
    "df.tail()"
   ]
  },
  {
   "cell_type": "code",
   "execution_count": 5,
   "id": "8910b137",
   "metadata": {
    "execution": {
     "iopub.execute_input": "2025-08-08T05:55:42.607680Z",
     "iopub.status.busy": "2025-08-08T05:55:42.607074Z",
     "iopub.status.idle": "2025-08-08T05:55:42.628688Z",
     "shell.execute_reply": "2025-08-08T05:55:42.627617Z"
    },
    "papermill": {
     "duration": 0.027397,
     "end_time": "2025-08-08T05:55:42.629964",
     "exception": false,
     "start_time": "2025-08-08T05:55:42.602567",
     "status": "completed"
    },
    "tags": []
   },
   "outputs": [
    {
     "name": "stdout",
     "output_type": "stream",
     "text": [
      "<class 'pandas.core.frame.DataFrame'>\n",
      "RangeIndex: 1461 entries, 0 to 1460\n",
      "Data columns (total 12 columns):\n",
      " #   Column          Non-Null Count  Dtype  \n",
      "---  ------          --------------  -----  \n",
      " 0   Date            1461 non-null   int64  \n",
      " 1   Month           1461 non-null   int64  \n",
      " 2   Year            1461 non-null   int64  \n",
      " 3   Holidays_Count  1461 non-null   int64  \n",
      " 4   Days            1461 non-null   int64  \n",
      " 5   PM2.5           1461 non-null   float64\n",
      " 6   PM10            1461 non-null   float64\n",
      " 7   NO2             1461 non-null   float64\n",
      " 8   SO2             1461 non-null   float64\n",
      " 9   CO              1461 non-null   float64\n",
      " 10  Ozone           1461 non-null   float64\n",
      " 11  AQI             1461 non-null   int64  \n",
      "dtypes: float64(6), int64(6)\n",
      "memory usage: 137.1 KB\n"
     ]
    }
   ],
   "source": [
    "df.info()"
   ]
  },
  {
   "cell_type": "code",
   "execution_count": 6,
   "id": "fd0c86b2",
   "metadata": {
    "execution": {
     "iopub.execute_input": "2025-08-08T05:55:42.639888Z",
     "iopub.status.busy": "2025-08-08T05:55:42.639123Z",
     "iopub.status.idle": "2025-08-08T05:55:42.677537Z",
     "shell.execute_reply": "2025-08-08T05:55:42.676640Z"
    },
    "papermill": {
     "duration": 0.044686,
     "end_time": "2025-08-08T05:55:42.678866",
     "exception": false,
     "start_time": "2025-08-08T05:55:42.634180",
     "status": "completed"
    },
    "tags": []
   },
   "outputs": [
    {
     "data": {
      "text/html": [
       "<div>\n",
       "<style scoped>\n",
       "    .dataframe tbody tr th:only-of-type {\n",
       "        vertical-align: middle;\n",
       "    }\n",
       "\n",
       "    .dataframe tbody tr th {\n",
       "        vertical-align: top;\n",
       "    }\n",
       "\n",
       "    .dataframe thead th {\n",
       "        text-align: right;\n",
       "    }\n",
       "</style>\n",
       "<table border=\"1\" class=\"dataframe\">\n",
       "  <thead>\n",
       "    <tr style=\"text-align: right;\">\n",
       "      <th></th>\n",
       "      <th>Date</th>\n",
       "      <th>Month</th>\n",
       "      <th>Year</th>\n",
       "      <th>Holidays_Count</th>\n",
       "      <th>Days</th>\n",
       "      <th>PM2.5</th>\n",
       "      <th>PM10</th>\n",
       "      <th>NO2</th>\n",
       "      <th>SO2</th>\n",
       "      <th>CO</th>\n",
       "      <th>Ozone</th>\n",
       "      <th>AQI</th>\n",
       "    </tr>\n",
       "  </thead>\n",
       "  <tbody>\n",
       "    <tr>\n",
       "      <th>count</th>\n",
       "      <td>1461.000000</td>\n",
       "      <td>1461.000000</td>\n",
       "      <td>1461.000000</td>\n",
       "      <td>1461.000000</td>\n",
       "      <td>1461.000000</td>\n",
       "      <td>1461.000000</td>\n",
       "      <td>1461.000000</td>\n",
       "      <td>1461.000000</td>\n",
       "      <td>1461.000000</td>\n",
       "      <td>1461.000000</td>\n",
       "      <td>1461.000000</td>\n",
       "      <td>1461.000000</td>\n",
       "    </tr>\n",
       "    <tr>\n",
       "      <th>mean</th>\n",
       "      <td>15.729637</td>\n",
       "      <td>6.522930</td>\n",
       "      <td>2022.501027</td>\n",
       "      <td>0.189596</td>\n",
       "      <td>4.000684</td>\n",
       "      <td>90.774538</td>\n",
       "      <td>218.219261</td>\n",
       "      <td>37.184921</td>\n",
       "      <td>20.104921</td>\n",
       "      <td>1.025832</td>\n",
       "      <td>36.338871</td>\n",
       "      <td>202.210815</td>\n",
       "    </tr>\n",
       "    <tr>\n",
       "      <th>std</th>\n",
       "      <td>8.803105</td>\n",
       "      <td>3.449884</td>\n",
       "      <td>1.118723</td>\n",
       "      <td>0.392116</td>\n",
       "      <td>2.001883</td>\n",
       "      <td>71.650579</td>\n",
       "      <td>129.297734</td>\n",
       "      <td>35.225327</td>\n",
       "      <td>16.543659</td>\n",
       "      <td>0.608305</td>\n",
       "      <td>18.951204</td>\n",
       "      <td>107.801076</td>\n",
       "    </tr>\n",
       "    <tr>\n",
       "      <th>min</th>\n",
       "      <td>1.000000</td>\n",
       "      <td>1.000000</td>\n",
       "      <td>2021.000000</td>\n",
       "      <td>0.000000</td>\n",
       "      <td>1.000000</td>\n",
       "      <td>0.050000</td>\n",
       "      <td>9.690000</td>\n",
       "      <td>2.160000</td>\n",
       "      <td>1.210000</td>\n",
       "      <td>0.270000</td>\n",
       "      <td>2.700000</td>\n",
       "      <td>19.000000</td>\n",
       "    </tr>\n",
       "    <tr>\n",
       "      <th>25%</th>\n",
       "      <td>8.000000</td>\n",
       "      <td>4.000000</td>\n",
       "      <td>2022.000000</td>\n",
       "      <td>0.000000</td>\n",
       "      <td>2.000000</td>\n",
       "      <td>41.280000</td>\n",
       "      <td>115.110000</td>\n",
       "      <td>17.280000</td>\n",
       "      <td>7.710000</td>\n",
       "      <td>0.610000</td>\n",
       "      <td>24.100000</td>\n",
       "      <td>108.000000</td>\n",
       "    </tr>\n",
       "    <tr>\n",
       "      <th>50%</th>\n",
       "      <td>16.000000</td>\n",
       "      <td>7.000000</td>\n",
       "      <td>2023.000000</td>\n",
       "      <td>0.000000</td>\n",
       "      <td>4.000000</td>\n",
       "      <td>72.060000</td>\n",
       "      <td>199.800000</td>\n",
       "      <td>30.490000</td>\n",
       "      <td>15.430000</td>\n",
       "      <td>0.850000</td>\n",
       "      <td>32.470000</td>\n",
       "      <td>189.000000</td>\n",
       "    </tr>\n",
       "    <tr>\n",
       "      <th>75%</th>\n",
       "      <td>23.000000</td>\n",
       "      <td>10.000000</td>\n",
       "      <td>2024.000000</td>\n",
       "      <td>0.000000</td>\n",
       "      <td>6.000000</td>\n",
       "      <td>118.500000</td>\n",
       "      <td>297.750000</td>\n",
       "      <td>45.010000</td>\n",
       "      <td>26.620000</td>\n",
       "      <td>1.240000</td>\n",
       "      <td>45.730000</td>\n",
       "      <td>284.000000</td>\n",
       "    </tr>\n",
       "    <tr>\n",
       "      <th>max</th>\n",
       "      <td>31.000000</td>\n",
       "      <td>12.000000</td>\n",
       "      <td>2024.000000</td>\n",
       "      <td>1.000000</td>\n",
       "      <td>7.000000</td>\n",
       "      <td>1000.000000</td>\n",
       "      <td>1000.000000</td>\n",
       "      <td>433.980000</td>\n",
       "      <td>113.400000</td>\n",
       "      <td>4.700000</td>\n",
       "      <td>115.870000</td>\n",
       "      <td>500.000000</td>\n",
       "    </tr>\n",
       "  </tbody>\n",
       "</table>\n",
       "</div>"
      ],
      "text/plain": [
       "              Date        Month         Year  Holidays_Count         Days  \\\n",
       "count  1461.000000  1461.000000  1461.000000     1461.000000  1461.000000   \n",
       "mean     15.729637     6.522930  2022.501027        0.189596     4.000684   \n",
       "std       8.803105     3.449884     1.118723        0.392116     2.001883   \n",
       "min       1.000000     1.000000  2021.000000        0.000000     1.000000   \n",
       "25%       8.000000     4.000000  2022.000000        0.000000     2.000000   \n",
       "50%      16.000000     7.000000  2023.000000        0.000000     4.000000   \n",
       "75%      23.000000    10.000000  2024.000000        0.000000     6.000000   \n",
       "max      31.000000    12.000000  2024.000000        1.000000     7.000000   \n",
       "\n",
       "             PM2.5         PM10          NO2          SO2           CO  \\\n",
       "count  1461.000000  1461.000000  1461.000000  1461.000000  1461.000000   \n",
       "mean     90.774538   218.219261    37.184921    20.104921     1.025832   \n",
       "std      71.650579   129.297734    35.225327    16.543659     0.608305   \n",
       "min       0.050000     9.690000     2.160000     1.210000     0.270000   \n",
       "25%      41.280000   115.110000    17.280000     7.710000     0.610000   \n",
       "50%      72.060000   199.800000    30.490000    15.430000     0.850000   \n",
       "75%     118.500000   297.750000    45.010000    26.620000     1.240000   \n",
       "max    1000.000000  1000.000000   433.980000   113.400000     4.700000   \n",
       "\n",
       "             Ozone          AQI  \n",
       "count  1461.000000  1461.000000  \n",
       "mean     36.338871   202.210815  \n",
       "std      18.951204   107.801076  \n",
       "min       2.700000    19.000000  \n",
       "25%      24.100000   108.000000  \n",
       "50%      32.470000   189.000000  \n",
       "75%      45.730000   284.000000  \n",
       "max     115.870000   500.000000  "
      ]
     },
     "execution_count": 6,
     "metadata": {},
     "output_type": "execute_result"
    }
   ],
   "source": [
    "df.describe()"
   ]
  },
  {
   "cell_type": "code",
   "execution_count": 7,
   "id": "75d78645",
   "metadata": {
    "execution": {
     "iopub.execute_input": "2025-08-08T05:55:42.688578Z",
     "iopub.status.busy": "2025-08-08T05:55:42.688265Z",
     "iopub.status.idle": "2025-08-08T05:55:42.693433Z",
     "shell.execute_reply": "2025-08-08T05:55:42.692691Z"
    },
    "papermill": {
     "duration": 0.011515,
     "end_time": "2025-08-08T05:55:42.694729",
     "exception": false,
     "start_time": "2025-08-08T05:55:42.683214",
     "status": "completed"
    },
    "tags": []
   },
   "outputs": [
    {
     "data": {
      "text/plain": [
       "(1461, 12)"
      ]
     },
     "execution_count": 7,
     "metadata": {},
     "output_type": "execute_result"
    }
   ],
   "source": [
    "df.shape"
   ]
  },
  {
   "cell_type": "code",
   "execution_count": 8,
   "id": "1a2abe87",
   "metadata": {
    "execution": {
     "iopub.execute_input": "2025-08-08T05:55:42.704936Z",
     "iopub.status.busy": "2025-08-08T05:55:42.704194Z",
     "iopub.status.idle": "2025-08-08T05:55:42.710955Z",
     "shell.execute_reply": "2025-08-08T05:55:42.710084Z"
    },
    "papermill": {
     "duration": 0.013183,
     "end_time": "2025-08-08T05:55:42.712329",
     "exception": false,
     "start_time": "2025-08-08T05:55:42.699146",
     "status": "completed"
    },
    "tags": []
   },
   "outputs": [
    {
     "data": {
      "text/plain": [
       "Date                int64\n",
       "Month               int64\n",
       "Year                int64\n",
       "Holidays_Count      int64\n",
       "Days                int64\n",
       "PM2.5             float64\n",
       "PM10              float64\n",
       "NO2               float64\n",
       "SO2               float64\n",
       "CO                float64\n",
       "Ozone             float64\n",
       "AQI                 int64\n",
       "dtype: object"
      ]
     },
     "execution_count": 8,
     "metadata": {},
     "output_type": "execute_result"
    }
   ],
   "source": [
    "df.dtypes"
   ]
  },
  {
   "cell_type": "code",
   "execution_count": 9,
   "id": "048be84c",
   "metadata": {
    "execution": {
     "iopub.execute_input": "2025-08-08T05:55:42.723675Z",
     "iopub.status.busy": "2025-08-08T05:55:42.722901Z",
     "iopub.status.idle": "2025-08-08T05:55:42.728340Z",
     "shell.execute_reply": "2025-08-08T05:55:42.727508Z"
    },
    "papermill": {
     "duration": 0.012929,
     "end_time": "2025-08-08T05:55:42.729712",
     "exception": false,
     "start_time": "2025-08-08T05:55:42.716783",
     "status": "completed"
    },
    "tags": []
   },
   "outputs": [
    {
     "data": {
      "text/plain": [
       "Index(['Date', 'Month', 'Year', 'Holidays_Count', 'Days', 'PM2.5', 'PM10',\n",
       "       'NO2', 'SO2', 'CO', 'Ozone', 'AQI'],\n",
       "      dtype='object')"
      ]
     },
     "execution_count": 9,
     "metadata": {},
     "output_type": "execute_result"
    }
   ],
   "source": [
    "df.columns"
   ]
  },
  {
   "cell_type": "code",
   "execution_count": 10,
   "id": "e22b14d2",
   "metadata": {
    "execution": {
     "iopub.execute_input": "2025-08-08T05:55:42.740468Z",
     "iopub.status.busy": "2025-08-08T05:55:42.739669Z",
     "iopub.status.idle": "2025-08-08T05:55:42.747371Z",
     "shell.execute_reply": "2025-08-08T05:55:42.746654Z"
    },
    "papermill": {
     "duration": 0.014323,
     "end_time": "2025-08-08T05:55:42.748657",
     "exception": false,
     "start_time": "2025-08-08T05:55:42.734334",
     "status": "completed"
    },
    "tags": []
   },
   "outputs": [
    {
     "data": {
      "text/plain": [
       "0"
      ]
     },
     "execution_count": 10,
     "metadata": {},
     "output_type": "execute_result"
    }
   ],
   "source": [
    "df.duplicated().sum()"
   ]
  },
  {
   "cell_type": "code",
   "execution_count": 11,
   "id": "1cdcf06f",
   "metadata": {
    "execution": {
     "iopub.execute_input": "2025-08-08T05:55:42.759635Z",
     "iopub.status.busy": "2025-08-08T05:55:42.758646Z",
     "iopub.status.idle": "2025-08-08T05:55:42.766530Z",
     "shell.execute_reply": "2025-08-08T05:55:42.765637Z"
    },
    "papermill": {
     "duration": 0.014639,
     "end_time": "2025-08-08T05:55:42.767876",
     "exception": false,
     "start_time": "2025-08-08T05:55:42.753237",
     "status": "completed"
    },
    "tags": []
   },
   "outputs": [
    {
     "data": {
      "text/plain": [
       "Date              0\n",
       "Month             0\n",
       "Year              0\n",
       "Holidays_Count    0\n",
       "Days              0\n",
       "PM2.5             0\n",
       "PM10              0\n",
       "NO2               0\n",
       "SO2               0\n",
       "CO                0\n",
       "Ozone             0\n",
       "AQI               0\n",
       "dtype: int64"
      ]
     },
     "execution_count": 11,
     "metadata": {},
     "output_type": "execute_result"
    }
   ],
   "source": [
    "df.isnull().sum()"
   ]
  },
  {
   "cell_type": "code",
   "execution_count": 12,
   "id": "c00a9d9d",
   "metadata": {
    "execution": {
     "iopub.execute_input": "2025-08-08T05:55:42.778575Z",
     "iopub.status.busy": "2025-08-08T05:55:42.777982Z",
     "iopub.status.idle": "2025-08-08T05:55:42.785992Z",
     "shell.execute_reply": "2025-08-08T05:55:42.785233Z"
    },
    "papermill": {
     "duration": 0.014678,
     "end_time": "2025-08-08T05:55:42.787311",
     "exception": false,
     "start_time": "2025-08-08T05:55:42.772633",
     "status": "completed"
    },
    "tags": []
   },
   "outputs": [
    {
     "data": {
      "text/plain": [
       "Date              0.0\n",
       "Month             0.0\n",
       "Year              0.0\n",
       "Holidays_Count    0.0\n",
       "Days              0.0\n",
       "PM2.5             0.0\n",
       "PM10              0.0\n",
       "NO2               0.0\n",
       "SO2               0.0\n",
       "CO                0.0\n",
       "Ozone             0.0\n",
       "AQI               0.0\n",
       "dtype: float64"
      ]
     },
     "execution_count": 12,
     "metadata": {},
     "output_type": "execute_result"
    }
   ],
   "source": [
    "(df.isnull().sum()/len(df)*100)"
   ]
  },
  {
   "cell_type": "code",
   "execution_count": 13,
   "id": "694c00b4",
   "metadata": {
    "execution": {
     "iopub.execute_input": "2025-08-08T05:55:42.798531Z",
     "iopub.status.busy": "2025-08-08T05:55:42.797914Z",
     "iopub.status.idle": "2025-08-08T05:55:42.808890Z",
     "shell.execute_reply": "2025-08-08T05:55:42.807925Z"
    },
    "papermill": {
     "duration": 0.018921,
     "end_time": "2025-08-08T05:55:42.811111",
     "exception": false,
     "start_time": "2025-08-08T05:55:42.792190",
     "status": "completed"
    },
    "tags": []
   },
   "outputs": [],
   "source": [
    "df['Date'] = pd.to_datetime(df['Date'])\n",
    "df['Month'] = df['Date'].dt.month\n",
    "df['Year'] = df['Date'].dt.year\n"
   ]
  },
  {
   "cell_type": "code",
   "execution_count": 14,
   "id": "2ddb1da4",
   "metadata": {
    "execution": {
     "iopub.execute_input": "2025-08-08T05:55:42.829874Z",
     "iopub.status.busy": "2025-08-08T05:55:42.829168Z",
     "iopub.status.idle": "2025-08-08T05:55:43.263614Z",
     "shell.execute_reply": "2025-08-08T05:55:43.262719Z"
    },
    "papermill": {
     "duration": 0.443909,
     "end_time": "2025-08-08T05:55:43.265196",
     "exception": false,
     "start_time": "2025-08-08T05:55:42.821287",
     "status": "completed"
    },
    "tags": []
   },
   "outputs": [
    {
     "data": {
      "image/png": "[encoded data removed]",
      "text/plain": [
       "<Figure size 640x480 with 1 Axes>"
      ]
     },
     "metadata": {},
     "output_type": "display_data"
    }
   ],
   "source": [
    "df.groupby(['Year', 'Month'])['AQI'].mean().plot(kind='line', marker='o')\n",
    "plt.title(\"Monthly Average AQI Over Time\")\n",
    "plt.ylabel(\"AQI\")\n",
    "plt.show()"
   ]
  },
  {
   "cell_type": "code",
   "execution_count": 15,
   "id": "7a52fe40",
   "metadata": {
    "execution": {
     "iopub.execute_input": "2025-08-08T05:55:43.277344Z",
     "iopub.status.busy": "2025-08-08T05:55:43.276537Z",
     "iopub.status.idle": "2025-08-08T05:55:43.430606Z",
     "shell.execute_reply": "2025-08-08T05:55:43.429655Z"
    },
    "papermill": {
     "duration": 0.161662,
     "end_time": "2025-08-08T05:55:43.432122",
     "exception": false,
     "start_time": "2025-08-08T05:55:43.270460",
     "status": "completed"
    },
    "tags": []
   },
   "outputs": [
    {
     "data": {
      "image/png": "[encoded data removed]",
      "text/plain": [
       "<Figure size 640x480 with 1 Axes>"
      ]
     },
     "metadata": {},
     "output_type": "display_data"
    }
   ],
   "source": [
    "df.groupby('Holidays_Count')['AQI'].mean().plot(kind='bar')\n",
    "plt.title(\"AQI on Holidays vs Non-Holidays\")\n",
    "plt.ylabel(\"Average AQI\")\n",
    "plt.show()"
   ]
  },
  {
   "cell_type": "code",
   "execution_count": 16,
   "id": "3de27951",
   "metadata": {
    "execution": {
     "iopub.execute_input": "2025-08-08T05:55:43.445684Z",
     "iopub.status.busy": "2025-08-08T05:55:43.444785Z",
     "iopub.status.idle": "2025-08-08T05:55:43.762842Z",
     "shell.execute_reply": "2025-08-08T05:55:43.761959Z"
    },
    "papermill": {
     "duration": 0.326703,
     "end_time": "2025-08-08T05:55:43.764513",
     "exception": false,
     "start_time": "2025-08-08T05:55:43.437810",
     "status": "completed"
    },
    "tags": []
   },
   "outputs": [
    {
     "data": {
      "image/png": "[encoded data removed]",
      "text/plain": [
       "<Figure size 640x480 with 2 Axes>"
      ]
     },
     "metadata": {},
     "output_type": "display_data"
    }
   ],
   "source": [
    "pollutants = ['PM2.5', 'PM10', 'NO2', 'SO2', 'CO', 'Ozone', 'AQI']\n",
    "sns.heatmap(df[pollutants].corr(), annot=True, cmap='coolwarm')\n",
    "plt.title(\"Pollutants Correlation with AQI\")\n",
    "plt.show()"
   ]
  },
  {
   "cell_type": "code",
   "execution_count": 17,
   "id": "56807301",
   "metadata": {
    "execution": {
     "iopub.execute_input": "2025-08-08T05:55:43.778789Z",
     "iopub.status.busy": "2025-08-08T05:55:43.778494Z",
     "iopub.status.idle": "2025-08-08T05:55:43.921599Z",
     "shell.execute_reply": "2025-08-08T05:55:43.920632Z"
    },
    "papermill": {
     "duration": 0.151881,
     "end_time": "2025-08-08T05:55:43.923048",
     "exception": false,
     "start_time": "2025-08-08T05:55:43.771167",
     "status": "completed"
    },
    "tags": []
   },
   "outputs": [
    {
     "data": {
      "image/png": "[encoded data removed]",
      "text/plain": [
       "<Figure size 640x480 with 1 Axes>"
      ]
     },
     "metadata": {},
     "output_type": "display_data"
    }
   ],
   "source": [
    "df.groupby('Month')['AQI'].mean().plot(kind='bar')\n",
    "plt.title(\"Average AQI by Month\")\n",
    "plt.show()\n"
   ]
  },
  {
   "cell_type": "code",
   "execution_count": 18,
   "id": "cff77406",
   "metadata": {
    "execution": {
     "iopub.execute_input": "2025-08-08T05:55:43.938207Z",
     "iopub.status.busy": "2025-08-08T05:55:43.937545Z",
     "iopub.status.idle": "2025-08-08T05:55:43.951384Z",
     "shell.execute_reply": "2025-08-08T05:55:43.950587Z"
    },
    "papermill": {
     "duration": 0.022751,
     "end_time": "2025-08-08T05:55:43.952677",
     "exception": false,
     "start_time": "2025-08-08T05:55:43.929926",
     "status": "completed"
    },
    "tags": []
   },
   "outputs": [
    {
     "data": {
      "text/html": [
       "<div>\n",
       "<style scoped>\n",
       "    .dataframe tbody tr th:only-of-type {\n",
       "        vertical-align: middle;\n",
       "    }\n",
       "\n",
       "    .dataframe tbody tr th {\n",
       "        vertical-align: top;\n",
       "    }\n",
       "\n",
       "    .dataframe thead th {\n",
       "        text-align: right;\n",
       "    }\n",
       "</style>\n",
       "<table border=\"1\" class=\"dataframe\">\n",
       "  <thead>\n",
       "    <tr style=\"text-align: right;\">\n",
       "      <th></th>\n",
       "      <th>Date</th>\n",
       "      <th>AQI</th>\n",
       "      <th>PM2.5</th>\n",
       "      <th>PM10</th>\n",
       "    </tr>\n",
       "  </thead>\n",
       "  <tbody>\n",
       "    <tr>\n",
       "      <th>736</th>\n",
       "      <td>1970-01-01 00:00:00.000000007</td>\n",
       "      <td>500</td>\n",
       "      <td>200.60</td>\n",
       "      <td>1000.00</td>\n",
       "    </tr>\n",
       "    <tr>\n",
       "      <th>737</th>\n",
       "      <td>1970-01-01 00:00:00.000000008</td>\n",
       "      <td>500</td>\n",
       "      <td>232.78</td>\n",
       "      <td>869.48</td>\n",
       "    </tr>\n",
       "    <tr>\n",
       "      <th>359</th>\n",
       "      <td>1970-01-01 00:00:00.000000026</td>\n",
       "      <td>490</td>\n",
       "      <td>432.88</td>\n",
       "      <td>595.44</td>\n",
       "    </tr>\n",
       "    <tr>\n",
       "      <th>315</th>\n",
       "      <td>1970-01-01 00:00:00.000000012</td>\n",
       "      <td>489</td>\n",
       "      <td>387.18</td>\n",
       "      <td>451.81</td>\n",
       "    </tr>\n",
       "    <tr>\n",
       "      <th>1</th>\n",
       "      <td>1970-01-01 00:00:00.000000002</td>\n",
       "      <td>482</td>\n",
       "      <td>404.04</td>\n",
       "      <td>561.95</td>\n",
       "    </tr>\n",
       "    <tr>\n",
       "      <th>357</th>\n",
       "      <td>1970-01-01 00:00:00.000000024</td>\n",
       "      <td>473</td>\n",
       "      <td>414.69</td>\n",
       "      <td>671.99</td>\n",
       "    </tr>\n",
       "    <tr>\n",
       "      <th>356</th>\n",
       "      <td>1970-01-01 00:00:00.000000023</td>\n",
       "      <td>468</td>\n",
       "      <td>408.83</td>\n",
       "      <td>679.54</td>\n",
       "    </tr>\n",
       "    <tr>\n",
       "      <th>1417</th>\n",
       "      <td>1970-01-01 00:00:00.000000018</td>\n",
       "      <td>468</td>\n",
       "      <td>306.91</td>\n",
       "      <td>844.09</td>\n",
       "    </tr>\n",
       "    <tr>\n",
       "      <th>358</th>\n",
       "      <td>1970-01-01 00:00:00.000000025</td>\n",
       "      <td>467</td>\n",
       "      <td>430.84</td>\n",
       "      <td>656.11</td>\n",
       "    </tr>\n",
       "    <tr>\n",
       "      <th>384</th>\n",
       "      <td>1970-01-01 00:00:00.000000020</td>\n",
       "      <td>465</td>\n",
       "      <td>284.88</td>\n",
       "      <td>539.69</td>\n",
       "    </tr>\n",
       "  </tbody>\n",
       "</table>\n",
       "</div>"
      ],
      "text/plain": [
       "                              Date  AQI   PM2.5     PM10\n",
       "736  1970-01-01 00:00:00.000000007  500  200.60  1000.00\n",
       "737  1970-01-01 00:00:00.000000008  500  232.78   869.48\n",
       "359  1970-01-01 00:00:00.000000026  490  432.88   595.44\n",
       "315  1970-01-01 00:00:00.000000012  489  387.18   451.81\n",
       "1    1970-01-01 00:00:00.000000002  482  404.04   561.95\n",
       "357  1970-01-01 00:00:00.000000024  473  414.69   671.99\n",
       "356  1970-01-01 00:00:00.000000023  468  408.83   679.54\n",
       "1417 1970-01-01 00:00:00.000000018  468  306.91   844.09\n",
       "358  1970-01-01 00:00:00.000000025  467  430.84   656.11\n",
       "384  1970-01-01 00:00:00.000000020  465  284.88   539.69"
      ]
     },
     "execution_count": 18,
     "metadata": {},
     "output_type": "execute_result"
    }
   ],
   "source": [
    "df.nlargest(10, 'AQI')[['Date', 'AQI', 'PM2.5', 'PM10']]\n"
   ]
  },
  {
   "cell_type": "code",
   "execution_count": null,
   "id": "727c7ea1",
   "metadata": {
    "papermill": {
     "duration": 0.006614,
     "end_time": "2025-08-08T05:55:43.966120",
     "exception": false,
     "start_time": "2025-08-08T05:55:43.959506",
     "status": "completed"
    },
    "tags": []
   },
   "outputs": [],
   "source": []
  }
 ],
 "metadata": {
  "kaggle": {
   "accelerator": "none",
   "dataSources": [
    {
     "datasetId": 7959453,
     "sourceId": 12601429,
     "sourceType": "datasetVersion"
    }
   ],
   "dockerImageVersionId": 31089,
   "isGpuEnabled": false,
   "isInternetEnabled": true,
   "language": "python",
   "sourceType": "notebook"
  },
  "kernelspec": {
   "display_name": "Python 3",
   "language": "python",
   "name": "python3"
  },
  "language_info": {
   "codemirror_mode": {
    "name": "ipython",
    "version": 3
   },
   "file_extension": ".py",
   "mimetype": "text/x-python",
   "name": "python",
   "nbconvert_exporter": "python",
   "pygments_lexer": "ipython3",
   "version": "3.11.13"
  },
  "papermill": {
   "default_parameters": {},
   "duration": 10.120755,
   "end_time": "2025-08-08T05:55:44.692052",
   "environment_variables": {},
   "exception": null,
   "input_path": "__notebook__.ipynb",
   "output_path": "__notebook__.ipynb",
   "parameters": {},
   "start_time": "2025-08-08T05:55:34.571297",
   "version": "2.6.0"
  }
 },
 "nbformat": 4,
 "nbformat_minor": 5
}
